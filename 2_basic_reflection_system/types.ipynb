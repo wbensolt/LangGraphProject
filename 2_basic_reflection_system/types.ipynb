{
 "cells": [
  {
   "cell_type": "code",
   "execution_count": null,
   "id": "91584e34",
   "metadata": {},
   "outputs": [],
   "source": [
    "from pydantic import BaseModel, Field\n",
    "from langchain_community.chat_models import ChatOllama\n",
    "\n",
    "LLM_MODEL = \"llama3.2:latest\"\n",
    "llm = ChatOllama(model=LLM_MODEL)\n",
    "\n",
    "class Country(BaseModel):\n",
    "\n",
    "    \"\"\"Information about a country.\"\"\"\n",
    "\n",
    "    name: str = Field(description=\"The name of the country\")\n",
    "    capital: str = Field(description=\"The capital of the country\")\n",
    "    langage: int = Field(description=\"The langage of the country\")\n",
    "\n",
    "structured_llm = llm.with_structured_output() with_structured_output(Country)\n",
    "structured_llm\n"
   ]
  },
  {
   "cell_type": "code",
   "execution_count": 4,
   "id": "534790b4",
   "metadata": {},
   "outputs": [
    {
     "name": "stdout",
     "output_type": "stream",
     "text": [
      "name='Maroc' capital='Rabat' langage='arabe'\n"
     ]
    }
   ],
   "source": [
    "from pydantic import BaseModel\n",
    "from langchain_community.chat_models import ChatOllama\n",
    "import json\n",
    "\n",
    "class Country(BaseModel):\n",
    "    name: str\n",
    "    capital: str\n",
    "    langage: str\n",
    "\n",
    "llm = ChatOllama(model=\"llama3.2:latest\", temperature=0.0)\n",
    "\n",
    "prompt = \"\"\"\n",
    "Tu es un assistant qui répond uniquement en JSON valide.\n",
    "\n",
    "Donne-moi un objet JSON contenant les informations suivantes sur un pays :\n",
    "\n",
    "- name (le nom du pays)\n",
    "- capital (la capitale)\n",
    "- langage (la langue principale)\n",
    "\n",
    "Pays : Maroc\n",
    "Répond uniquement avec l'objet JSON, sans explication.\n",
    "\n",
    "IMPORTANT : Utilise exactement les noms de champs suivants dans le JSON : \"name\", \"capital\", \"langage\"\n",
    "\n",
    "\"\"\"\n",
    "\n",
    "response = llm.invoke(prompt)\n",
    "\n",
    "# On extrait et parse le JSON\n",
    "try:\n",
    "    content = response.content.strip()\n",
    "    parsed = json.loads(content)\n",
    "    country = Country.model_validate(parsed)\n",
    "    print(country)\n",
    "except Exception as e:\n",
    "    print(\"❌ Erreur de parsing :\", e)\n",
    "    print(\"Réponse brute :\", content)\n"
   ]
  },
  {
   "cell_type": "code",
   "execution_count": null,
   "id": "57421a70",
   "metadata": {},
   "outputs": [],
   "source": [
    "from typing_extensions import TypedDict, Annotated\n",
    "from typing import Optional\n",
    "\n",
    "#TypedDict\n",
    "class Joke(TypedDict):\n",
    "    \"\"\"Joke to tell to the user.\"\"\"\n",
    "\n",
    "    setup: Annotated[str, ..., \"The setup of the joke\"]\n",
    "\n",
    "    #Alternatively, you could have specified setup as:\n",
    "    \n",
    "    # setup: str                #no default, no description\n",
    "    # setup: Annoted[str,...]   #no default, no description\n",
    "    # setup: Annoted[str,\"foo\"]   #no default, no description\n",
    "\n",
    "    punchline: Annotated[str, ..., \"The punchline of the joke\"]\n",
    "    rating: Annotated[Optional[int], None, \"How funny the joke is, from 1 to 10\"]\n",
    "\n",
    "structured_llm = llm.with_structured_output(Joke)\n",
    "structured_llm.invoke(\"Tell me a joke about cats\")\n",
    "\n",
    "\n"
   ]
  },
  {
   "cell_type": "code",
   "execution_count": null,
   "id": "c11a3cc6",
   "metadata": {},
   "outputs": [],
   "source": []
  }
 ],
 "metadata": {
  "kernelspec": {
   "display_name": ".venv",
   "language": "python",
   "name": "python3"
  },
  "language_info": {
   "codemirror_mode": {
    "name": "ipython",
    "version": 3
   },
   "file_extension": ".py",
   "mimetype": "text/x-python",
   "name": "python",
   "nbconvert_exporter": "python",
   "pygments_lexer": "ipython3",
   "version": "3.11.0"
  }
 },
 "nbformat": 4,
 "nbformat_minor": 5
}
